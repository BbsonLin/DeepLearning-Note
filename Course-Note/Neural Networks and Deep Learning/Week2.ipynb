{
 "cells": [
  {
   "cell_type": "markdown",
   "metadata": {},
   "source": [
    "## Neural network programming guideline     \n",
    "<br>\n",
    "* **Whenever possible, avoid explicit for-loops**"
   ]
  },
  {
   "cell_type": "code",
   "execution_count": 1,
   "metadata": {},
   "outputs": [
    {
     "name": "stdout",
     "output_type": "stream",
     "text": [
      "[1 2 3 4]\n"
     ]
    }
   ],
   "source": [
    "import numpy as np\n",
    "\n",
    "a = np.array([1,2,3,4])\n",
    "print(a)"
   ]
  },
  {
   "cell_type": "markdown",
   "metadata": {},
   "source": [
    "$u = Av$\n",
    "\n",
    "$u_{ij} = \\sum\\limits_{k=1}^{n}A_{ik}v_{kj}$\n",
    "\n",
    "A 為一個 n x n 矩陣\n",
    "\n",
    "$\n",
    "\\begin{equation*}\n",
    "\\begin{bmatrix}\n",
    "  u_{11} \\\\\n",
    "  u_{21}\n",
    "\\end{bmatrix}\n",
    "=\n",
    "\\begin{bmatrix}\n",
    "  A_{11} & A_{12} \\\\\n",
    "  A_{21} & A_{22}\n",
    "\\end{bmatrix}\n",
    "\\begin{bmatrix}\n",
    "  v_{11} \\\\\n",
    "  v_{21}\n",
    "\\end{bmatrix}\n",
    "\\end{equation*}\n",
    "$\n",
    "\n",
    "$u_{11} = A_{11}v_{11} + A_{12}v_{12}$\n",
    "\n",
    "$u_{21} = A_{21}v_{11} + A_{22}v_{12}$"
   ]
  },
  {
   "cell_type": "markdown",
   "metadata": {},
   "source": [
    "Non-Vectorized\n",
    "```python\n",
    "import numpy as np\n",
    "u = np.zeros(n, 1)\n",
    "for i in range(n)\n",
    "    for j in range(n)\n",
    "        u[i] += A[i][j] * v[j]\n",
    "```\n",
    "Vectorized(Python Numpy)\n",
    "```python\n",
    "import numpy as np\n",
    "u = np.dot(A, v)\n",
    "```\n",
    "以下讓我們以 python time 模組比較一下這兩之間的時間差"
   ]
  },
  {
   "cell_type": "code",
   "execution_count": 2,
   "metadata": {},
   "outputs": [
    {
     "name": "stdout",
     "output_type": "stream",
     "text": [
      "249998.681969\n",
      "Vectorized: 1.1944770812988281 ms\n",
      "249998.681969\n",
      "For loop: 311.3572597503662 ms\n",
      "Vectorized(Numpy 向量算法) 比 For loop 快 260.6640718562874 倍\n"
     ]
    }
   ],
   "source": [
    "import time\n",
    "import numpy as np\n",
    "\n",
    "a = np.random.rand(1000000)\n",
    "b = np.random.rand(1000000)\n",
    "\n",
    "tic = time.time()\n",
    "c = np.dot(a,b)\n",
    "toc = time.time()\n",
    "period_v = 1000*(toc-tic)\n",
    "\n",
    "print(c)\n",
    "print(\"Vectorized: {} ms\".format(period_v))\n",
    "\n",
    "c = 0\n",
    "tic = time.time()\n",
    "for i in range(1000000):\n",
    "    c += a[i]*b[i]\n",
    "toc = time.time()\n",
    "period_nv = 1000*(toc-tic)\n",
    "\n",
    "print(c)\n",
    "print(\"For loop: {} ms\".format(period_nv))\n",
    "print(\"Vectorized(Numpy 向量算法) 比 For loop 快 {} 倍\".format(period_nv/period_v))"
   ]
  },
  {
   "cell_type": "code",
   "execution_count": null,
   "metadata": {
    "collapsed": true
   },
   "outputs": [],
   "source": []
  },
  {
   "cell_type": "code",
   "execution_count": null,
   "metadata": {
    "collapsed": true
   },
   "outputs": [],
   "source": []
  }
 ],
 "metadata": {
  "kernelspec": {
   "display_name": "Python 3",
   "language": "python",
   "name": "python3"
  },
  "language_info": {
   "codemirror_mode": {
    "name": "ipython",
    "version": 3
   },
   "file_extension": ".py",
   "mimetype": "text/x-python",
   "name": "python",
   "nbconvert_exporter": "python",
   "pygments_lexer": "ipython3",
   "version": "3.5.2"
  }
 },
 "nbformat": 4,
 "nbformat_minor": 2
}
